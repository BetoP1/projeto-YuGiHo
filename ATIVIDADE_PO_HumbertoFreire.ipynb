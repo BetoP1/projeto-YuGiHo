{
  "nbformat": 4,
  "nbformat_minor": 0,
  "metadata": {
    "colab": {
      "provenance": [],
      "authorship_tag": "ABX9TyMWWVwPAR4nWKHPPp7+c+6r",
      "include_colab_link": true
    },
    "kernelspec": {
      "name": "python3",
      "display_name": "Python 3"
    },
    "language_info": {
      "name": "python"
    }
  },
  "cells": [
    {
      "cell_type": "markdown",
      "metadata": {
        "id": "view-in-github",
        "colab_type": "text"
      },
      "source": [
        "<a href=\"https://colab.research.google.com/github/BetoP1/projeto-YuGiHo/blob/main/ATIVIDADE_PO_HumbertoFreire.ipynb\" target=\"_parent\"><img src=\"https://colab.research.google.com/assets/colab-badge.svg\" alt=\"Open In Colab\"/></a>"
      ]
    },
    {
      "cell_type": "markdown",
      "source": [
        "#ATIVIDADE 1: PRODUÇÃO DE VESTIDO\n",
        "\n",
        "Uma confecção produz semanalmente dois tipos de vestidos: casual e de festa.\n",
        "Cada tipo de vestido consome recursos diferentes e gera lucros distintos:\n",
        "\n",
        "Requisitos por unidade:\n",
        "> **Vestido casual:**\n",
        "* Consome 1 m2 de tecido\n",
        "* Requer 2 horas de trabalho\n",
        "* Gera lucro de R$ 15,00\n",
        "\n",
        "\n",
        "> **Vestido de festa:**\n",
        "* Consome 2 m2 de tecido\n",
        "* Requer 5 horas de trabalho\n",
        "* Gera lucro de R$ 35,00\n",
        "\n",
        "\n",
        "> **Recursos disponíveis:**\n",
        "*  32 m2 de tecido\n",
        "* 72 horas de trabalho\n",
        "\n"
      ],
      "metadata": {
        "id": "2JwcVvDs6918"
      }
    },
    {
      "cell_type": "markdown",
      "source": [
        "###RESPOSTA\n",
        "--------------------------------"
      ],
      "metadata": {
        "id": "iULNsetD9bxe"
      }
    },
    {
      "cell_type": "code",
      "source": [
        "!pip install ortools\n",
        "from ortools.linear_solver import pywraplp\n",
        "\n",
        "\n",
        "# Create the mip solver with the SCIP backend.\n",
        "solver = pywraplp.Solver.CreateSolver(\"SCIP\")\n",
        "\n",
        "# define infinito\n",
        "infinito = solver.infinity()\n",
        "\n",
        "# restrições de não negatividade e que as variáveis são inteiras\n",
        "x = solver.IntVar(0.0, infinito, \"x\")\n",
        "y = solver.IntVar(0.0, infinito, \"y\")\n",
        "\n",
        "# imprime número de variáveis\n",
        "print(\"Número de Variáveis =\", solver.NumVariables())\n",
        "\n",
        "# Restrição 1: 1 x * 2 * + y <= 32\n",
        "solver.Add(x * 2 + y <= 32)\n",
        "\n",
        "# Restrição 2: 2 * x + 5 * y <= 72\n",
        "solver.Add(2 * x + 5 * y <= 72)\n",
        "\n",
        "# imprime o número de restrições\n",
        "print(\"Número de Restrições =\", solver.NumConstraints())\n",
        "\n",
        "# Define a Função Objetivo de Maximização 15 * x + 35 * y\n",
        "solver.Maximize(15 * x + 35 * y)\n",
        "\n",
        "# Imprime a versão do Solver\n",
        "print(f\"Versão {solver.SolverVersion()}\")\n",
        "\n",
        "# resolve o problema\n",
        "status = solver.Solve()\n",
        "\n",
        "if status == pywraplp.Solver.OPTIMAL:\n",
        "  print(\"Solução:\")\n",
        "  print(\"Valor da Função Objetivo =\", solver.Objective().Value())\n",
        "  print(\"x =\", x.solution_value())\n",
        "  print(\"y =\", y.solution_value())\n",
        "else:\n",
        "  print(\"O problema não tem solução ótima\")\n",
        "\n",
        "print(\"\\n Dados adicionais:\")\n",
        "print(f\"Problema resolvido em {solver.wall_time():d} milisegundos\")\n",
        "print(f\"Problema resolvido em {solver.iterations():d} iterações\")\n"
      ],
      "metadata": {
        "colab": {
          "base_uri": "https://localhost:8080/"
        },
        "id": "-J_KBgvD-5ol",
        "outputId": "6844f2fb-2ae5-4bc3-8a25-68a13247d7aa"
      },
      "execution_count": null,
      "outputs": [
        {
          "output_type": "stream",
          "name": "stdout",
          "text": [
            "Requirement already satisfied: ortools in /usr/local/lib/python3.11/dist-packages (9.14.6206)\n",
            "Requirement already satisfied: absl-py>=2.0.0 in /usr/local/lib/python3.11/dist-packages (from ortools) (2.3.0)\n",
            "Requirement already satisfied: numpy>=1.13.3 in /usr/local/lib/python3.11/dist-packages (from ortools) (2.0.2)\n",
            "Requirement already satisfied: pandas>=2.0.0 in /usr/local/lib/python3.11/dist-packages (from ortools) (2.2.2)\n",
            "Requirement already satisfied: protobuf<6.32,>=6.31.1 in /usr/local/lib/python3.11/dist-packages (from ortools) (6.31.1)\n",
            "Requirement already satisfied: typing-extensions>=4.12 in /usr/local/lib/python3.11/dist-packages (from ortools) (4.14.0)\n",
            "Requirement already satisfied: immutabledict>=3.0.0 in /usr/local/lib/python3.11/dist-packages (from ortools) (4.2.1)\n",
            "Requirement already satisfied: python-dateutil>=2.8.2 in /usr/local/lib/python3.11/dist-packages (from pandas>=2.0.0->ortools) (2.9.0.post0)\n",
            "Requirement already satisfied: pytz>=2020.1 in /usr/local/lib/python3.11/dist-packages (from pandas>=2.0.0->ortools) (2025.2)\n",
            "Requirement already satisfied: tzdata>=2022.7 in /usr/local/lib/python3.11/dist-packages (from pandas>=2.0.0->ortools) (2025.2)\n",
            "Requirement already satisfied: six>=1.5 in /usr/local/lib/python3.11/dist-packages (from python-dateutil>=2.8.2->pandas>=2.0.0->ortools) (1.17.0)\n",
            "Número de Variáveis = 2\n",
            "Número de Restrições = 2\n",
            "Versão SCIP 9.2.2 [LP solver: SoPlex 7.1.3]\n",
            "Solução:\n",
            "Valor da Função Objetivo = 515.0\n",
            "x = 11.0\n",
            "y = 10.0\n",
            "\n",
            " Dados adicionais:\n",
            "Problema resolvido em 8 milisegundos\n",
            "Problema resolvido em 1 iterações\n"
          ]
        }
      ]
    },
    {
      "cell_type": "markdown",
      "source": [
        "#ATIVIDADE 2: PLANEJAMENTO DE BOLOS\n",
        "\n",
        "Uma confeitaria artesanal produz dois tipos de bolo de chocolate:\n",
        "• Bolo de Chocolate Tradicional\n",
        "• Bolo de Chocolate Meio Amargo\n",
        "Cada tipo de bolo exige quantidades específicas de ingredientes e gera um lucro\n",
        "diferente.\n",
        "\n",
        "**Ingredientes por unidade de bolo:**\n",
        ">**Tradicional:**\n",
        "* 0,5 kg de farinha\n",
        "* 0,2 kg de chocolate\n",
        "* 4 ovos\n",
        "* Lucro por unidade: R$ 4,00\n",
        "\n",
        "> **Meio Amargo:**\n",
        "* 0,4 kg de farinha\n",
        "* 0,4 kg de chocolate\n",
        "* 6 ovos\n",
        "* Lucro por unidade: R$ 5,00\n",
        "\n",
        "> **Ingredientes disponíveis:**\n",
        "* 12 kg de farinha\n",
        "* 8 kg de chocolate\n",
        "* 124 ovos"
      ],
      "metadata": {
        "id": "8-Kwvai4Grdd"
      }
    },
    {
      "cell_type": "markdown",
      "source": [
        "###REPOSTA\n",
        "------------------------------"
      ],
      "metadata": {
        "id": "F6BWFJKDHWW9"
      }
    },
    {
      "cell_type": "code",
      "source": [
        "!pip install ortools\n",
        "from ortools.linear_solver import pywraplp\n",
        "\n",
        "\n",
        "# Create the mip solver with the SCIP backend.\n",
        "solver = pywraplp.Solver.CreateSolver(\"SCIP\")\n",
        "\n",
        "# define infinito\n",
        "infinito = solver.infinity()\n",
        "\n",
        "# restrições de não negatividade e que as variáveis são inteiras\n",
        "x = solver.IntVar(0.0, infinito, \"x\")\n",
        "y = solver.IntVar(0.0, infinito, \"y\")\n",
        "\n",
        "# imprime número de variáveis\n",
        "print(\"Número de Variáveis =\", solver.NumVariables())\n",
        "\n",
        "# Restrição 1: 0.5 * x + 0.4 * y <= 12\n",
        "solver.Add(0.5 * x + 0.4 * y <= 12)\n",
        "\n",
        "# Restrição 2: 0.2 * x + 0.4 * y <= 8\n",
        "solver.Add(0.2 * x + 0.4 * y <= 8)\n",
        "\n",
        "# Restriçao 3: 4 * x + 6 * y <= 124\n",
        "solver.Add(4 * x + 6 * y <= 124)\n",
        "\n",
        "# imprime o número de restrições\n",
        "print(\"Número de Restrições =\", solver.NumConstraints())\n",
        "\n",
        "# Define a Função Objetivo de Maximização 4 * x + 5 * y\n",
        "solver.Maximize(4 * x + 5 * y)\n",
        "\n",
        "# Imprime a versão do Solver\n",
        "print(f\"Versão {solver.SolverVersion()}\")\n",
        "\n",
        "# resolve o problema\n",
        "status = solver.Solve()\n",
        "\n",
        "if status == pywraplp.Solver.OPTIMAL:\n",
        "  print(\"Solução:\")\n",
        "  print(\"Valor da Função Objetivo =\", solver.Objective().Value())\n",
        "  print(\"x =\", x.solution_value())\n",
        "  print(\"y =\", y.solution_value())\n",
        "else:\n",
        "  print(\"O problema não tem solução ótima\")\n",
        "\n",
        "print(\"\\n Dados adicionais:\")\n",
        "print(f\"Problema resolvido em {solver.wall_time():d} milisegundos\")\n",
        "print(f\"Problema resolvido em {solver.iterations():d} iterações\")\n"
      ],
      "metadata": {
        "colab": {
          "base_uri": "https://localhost:8080/"
        },
        "id": "IsgHPV7EHcNu",
        "outputId": "b90a0beb-0f33-4f67-851e-05e578dc7054"
      },
      "execution_count": null,
      "outputs": [
        {
          "output_type": "stream",
          "name": "stdout",
          "text": [
            "Requirement already satisfied: ortools in /usr/local/lib/python3.11/dist-packages (9.14.6206)\n",
            "Requirement already satisfied: absl-py>=2.0.0 in /usr/local/lib/python3.11/dist-packages (from ortools) (2.3.0)\n",
            "Requirement already satisfied: numpy>=1.13.3 in /usr/local/lib/python3.11/dist-packages (from ortools) (2.0.2)\n",
            "Requirement already satisfied: pandas>=2.0.0 in /usr/local/lib/python3.11/dist-packages (from ortools) (2.2.2)\n",
            "Requirement already satisfied: protobuf<6.32,>=6.31.1 in /usr/local/lib/python3.11/dist-packages (from ortools) (6.31.1)\n",
            "Requirement already satisfied: typing-extensions>=4.12 in /usr/local/lib/python3.11/dist-packages (from ortools) (4.14.0)\n",
            "Requirement already satisfied: immutabledict>=3.0.0 in /usr/local/lib/python3.11/dist-packages (from ortools) (4.2.1)\n",
            "Requirement already satisfied: python-dateutil>=2.8.2 in /usr/local/lib/python3.11/dist-packages (from pandas>=2.0.0->ortools) (2.9.0.post0)\n",
            "Requirement already satisfied: pytz>=2020.1 in /usr/local/lib/python3.11/dist-packages (from pandas>=2.0.0->ortools) (2025.2)\n",
            "Requirement already satisfied: tzdata>=2022.7 in /usr/local/lib/python3.11/dist-packages (from pandas>=2.0.0->ortools) (2025.2)\n",
            "Requirement already satisfied: six>=1.5 in /usr/local/lib/python3.11/dist-packages (from python-dateutil>=2.8.2->pandas>=2.0.0->ortools) (1.17.0)\n",
            "Número de Variáveis = 2\n",
            "Número de Restrições = 3\n",
            "Versão SCIP 9.2.2 [LP solver: SoPlex 7.1.3]\n",
            "Solução:\n",
            "Valor da Função Objetivo = 114.0\n",
            "x = 16.0\n",
            "y = 10.0\n",
            "\n",
            " Dados adicionais:\n",
            "Problema resolvido em 5 milisegundos\n",
            "Problema resolvido em 3 iterações\n"
          ]
        }
      ]
    },
    {
      "cell_type": "markdown",
      "source": [
        "#ATIVIDADE 6: ATLETA UNIVERSITÁRIO\n",
        "Um jovem atleta universitário deseja organizar sua rotina semanal de treinos conciliando\n",
        "dois esportes que aprecia: **natação** e **ciclismo**.\n",
        "\n",
        ">**Custos**\n",
        "* Sessão de **natação** custa **3,00 reais**\n",
        "* Sessão de **ciclismo** custa **3,00 reais**\n",
        "* O atleta dispõe de **R$ 70,00** por semana para gastos com treinamento.\n",
        "\n",
        ">**Limites e tempo de energia**\n",
        "* O atleta tem, no máximo, **18 horas por semana** disponíveis para treinar.\n",
        "* Cada sessão de **natação consome 1500 calorias**, e **cada sessão de ciclismo\n",
        "consome 1000 calorias**."
      ],
      "metadata": {
        "id": "Z7Ibb2sl3YZw"
      }
    },
    {
      "cell_type": "code",
      "source": [
        "!pip install ortools\n",
        "from ortools.linear_solver import pywraplp\n",
        "\n",
        "\n",
        "# Create the mip solver with the SCIP backend.\n",
        "solver = pywraplp.Solver.CreateSolver(\"SCIP\")\n",
        "\n",
        "# define infinito\n",
        "infinito = solver.infinity()\n",
        "\n",
        "# restrições de não negatividade e que as variáveis são inteiras\n",
        "x = solver.IntVar(0.0, infinito, \"x\")\n",
        "y = solver.IntVar(0.0, infinito, \"y\")\n",
        "\n",
        "# imprime número de variáveis\n",
        "print(\"Número de Variáveis =\", solver.NumVariables())\n",
        "\n",
        "# Restrição 1: 2 * x + 2 * y <= 18\n",
        "solver.Add(2 * x + 2 * y <= 18)\n",
        "\n",
        "# Restrição 2: 1500 * x + 1000 * y <= 80000\n",
        "solver.Add(1500 * x + 1000 * y <= 80000)\n",
        "\n",
        "# Restriçao 3: 2 * x + 3 * y <= 70\n",
        "solver.Add(3 * x + 2 * y <= 70)\n",
        "\n",
        "# imprime o número de restrições\n",
        "print(\"Número de Restrições =\", solver.NumConstraints())\n",
        "\n",
        "# Define a Função Objetivo de Maximização x + y\n",
        "solver.Maximize(x + y)\n",
        "# Imprime a versão do Solver\n",
        "print(f\"Versão {solver.SolverVersion()}\")\n",
        "\n",
        "# resolve o problema\n",
        "status = solver.Solve()\n",
        "\n",
        "if status == pywraplp.Solver.OPTIMAL:\n",
        "  print(\"Solução:\")\n",
        "  print(\"Valor da Função Objetivo =\", int(solver.Objective().Value()))\n",
        "  print(\"x =\", x.solution_value())\n",
        "  print(\"y =\", int(y.solution_value()))\n",
        "else:\n",
        "  print(\"O problema não tem solução ótima\")\n",
        "\n",
        "print(\"\\n Dados adicionais:\")\n",
        "print(f\"Problema resolvido em {solver.wall_time():d} milisegundos\")\n",
        "print(f\"Problema resolvido em {solver.iterations():d} iterações\")"
      ],
      "metadata": {
        "colab": {
          "base_uri": "https://localhost:8080/"
        },
        "id": "6SNiNQIdATbr",
        "outputId": "c4cf2553-42e1-4cec-b68b-3228a21b8e69"
      },
      "execution_count": null,
      "outputs": [
        {
          "output_type": "stream",
          "name": "stdout",
          "text": [
            "Requirement already satisfied: ortools in /usr/local/lib/python3.11/dist-packages (9.14.6206)\n",
            "Requirement already satisfied: absl-py>=2.0.0 in /usr/local/lib/python3.11/dist-packages (from ortools) (2.3.0)\n",
            "Requirement already satisfied: numpy>=1.13.3 in /usr/local/lib/python3.11/dist-packages (from ortools) (2.0.2)\n",
            "Requirement already satisfied: pandas>=2.0.0 in /usr/local/lib/python3.11/dist-packages (from ortools) (2.2.2)\n",
            "Requirement already satisfied: protobuf<6.32,>=6.31.1 in /usr/local/lib/python3.11/dist-packages (from ortools) (6.31.1)\n",
            "Requirement already satisfied: typing-extensions>=4.12 in /usr/local/lib/python3.11/dist-packages (from ortools) (4.14.0)\n",
            "Requirement already satisfied: immutabledict>=3.0.0 in /usr/local/lib/python3.11/dist-packages (from ortools) (4.2.1)\n",
            "Requirement already satisfied: python-dateutil>=2.8.2 in /usr/local/lib/python3.11/dist-packages (from pandas>=2.0.0->ortools) (2.9.0.post0)\n",
            "Requirement already satisfied: pytz>=2020.1 in /usr/local/lib/python3.11/dist-packages (from pandas>=2.0.0->ortools) (2025.2)\n",
            "Requirement already satisfied: tzdata>=2022.7 in /usr/local/lib/python3.11/dist-packages (from pandas>=2.0.0->ortools) (2025.2)\n",
            "Requirement already satisfied: six>=1.5 in /usr/local/lib/python3.11/dist-packages (from python-dateutil>=2.8.2->pandas>=2.0.0->ortools) (1.17.0)\n",
            "Número de Variáveis = 2\n",
            "Número de Restrições = 3\n",
            "Versão SCIP 9.2.2 [LP solver: SoPlex 7.1.3]\n",
            "Solução:\n",
            "Valor da Função Objetivo = 9\n",
            "x = 9.0\n",
            "y = 0\n",
            "\n",
            " Dados adicionais:\n",
            "Problema resolvido em 4 milisegundos\n",
            "Problema resolvido em 0 iterações\n"
          ]
        }
      ]
    }
  ]
}